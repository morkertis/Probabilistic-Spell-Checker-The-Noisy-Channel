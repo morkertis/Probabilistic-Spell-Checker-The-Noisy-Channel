{
 "cells": [
  {
   "cell_type": "code",
   "execution_count": 1,
   "metadata": {},
   "outputs": [],
   "source": [
    "# -*- coding: utf-8 -*-\n",
    "\"\"\"\n",
    "Created on Thu Dec  5 10:53:31 2019\n",
    "\n",
    "@author: mor\n",
    "\"\"\"\n",
    "\n",
    "from ex2 import *\n",
    "\n",
    "\n",
    "corpus_path='big.txt'\n",
    "errors_file  ='commmon_errors.txt'\n",
    "\n",
    "with open(corpus_path,'r') as f:\n",
    "    text=f.read()\n",
    "\n",
    "norm_text = normalize_text(text)\n",
    "\n",
    "sc=Spell_Checker()\n",
    "model=sc.build_model(norm_text)\n",
    "d=sc.learn_error_distribution(errors_file)\n",
    "\n"
   ]
  },
  {
   "cell_type": "code",
   "execution_count": 2,
   "metadata": {},
   "outputs": [
    {
     "name": "stdout",
     "output_type": "stream",
     "text": [
      "before:  sir arthur conan doyle copyright law are changing all over the world\n",
      "after:   sir arthur conan doyle copyright laws are changing all over the world\n",
      "before:  information about speciffic rights and restrictions\n",
      "after:   information about specific rights and restrictions\n",
      "before:  the winter is comming\n",
      "after:   the winter is coming\n"
     ]
    }
   ],
   "source": [
    "\n",
    "sent='sir arthur conan doyle copyright law are changing all over the world'\n",
    "print('before: ',sent)\n",
    "print('after:  ',sc.fix_sentence(sent,0.95))\n",
    "\n",
    "sent='information about speciffic rights and restrictions'\n",
    "print('before: ',sent)\n",
    "print('after:  ',sc.fix_sentence(sent,0.95))\n",
    "\n",
    "sent='the winter is comming'\n",
    "print('before: ',sent)\n",
    "print('after:  ',sc.fix_sentence(sent,0.05))\n"
   ]
  },
  {
   "cell_type": "code",
   "execution_count": 3,
   "metadata": {},
   "outputs": [
    {
     "name": "stdout",
     "output_type": "stream",
     "text": [
      "before:  botle\n",
      "after:   bottle\n"
     ]
    }
   ],
   "source": [
    "\n",
    "sent='botle'\n",
    "print('before: ',sent)\n",
    "print('after:  ',sc.fix_sentence(sent,0.05))\n"
   ]
  },
  {
   "cell_type": "code",
   "execution_count": 4,
   "metadata": {},
   "outputs": [
    {
     "name": "stdout",
     "output_type": "stream",
     "text": [
      "before:  watch out there is a cat in the end of the stret\n",
      "after:   watch out there is a cat in the end of the street\n",
      "before:  watch out there i a cat in the end of the street\n",
      "after:   watch out there is a cat in the end of the street\n",
      "before:  the winter is comming\n",
      "after:   the winter is coming\n",
      "before:  botle\n",
      "after:   bottle\n"
     ]
    }
   ],
   "source": [
    "\n",
    "sentences=['watch out there is a cat in the end of the stret',\n",
    "           'watch out there i a cat in the end of the street',\n",
    "           'the winter is comming',\n",
    "           'botle']\n",
    "for sent in sentences: \n",
    "    print('before: ',sent)\n",
    "    print('after:  ',sc.fix_sentence(sent,0.05))\n",
    "\n"
   ]
  },
  {
   "cell_type": "code",
   "execution_count": 5,
   "metadata": {},
   "outputs": [
    {
     "name": "stdout",
     "output_type": "stream",
     "text": [
      "you are the very man\n",
      "you are the very man\n",
      "you are the very man\n",
      "you are the very man\n",
      "you are the very man\n",
      "you are the very man\n"
     ]
    }
   ],
   "source": [
    "\n",
    "alpha=0.95\n",
    "text = \"you are ther very man\"\n",
    "print(sc.spell_check(text, alpha))\n",
    "text = \"you are the vary man\"\n",
    "print(sc.spell_check(text, alpha))\n",
    "text = \"yo are the very man\"\n",
    "print(sc.spell_check(text, alpha))\n",
    "text = \"you aer the very man\"\n",
    "print(sc.spell_check(text, alpha))\n",
    "text = \"you are the very man\"\n",
    "print(sc.spell_check(text, alpha))\n",
    "text = \"yuo are the very man\"\n",
    "print(sc.spell_check(text, alpha))\n",
    "\n"
   ]
  },
  {
   "cell_type": "code",
   "execution_count": 6,
   "metadata": {},
   "outputs": [
    {
     "name": "stdout",
     "output_type": "stream",
     "text": [
      "the movie actress is famous . my name is john and i went to school\n"
     ]
    }
   ],
   "source": [
    "\n",
    "print(sc.spell_check(\"the movie acress is famous. my name is john and i went to schol.\",0.01))\n",
    "\n"
   ]
  },
  {
   "cell_type": "code",
   "execution_count": 7,
   "metadata": {},
   "outputs": [
    {
     "name": "stdout",
     "output_type": "stream",
     "text": [
      "the movie actress is famous . my name is john and i went to school\n"
     ]
    }
   ],
   "source": [
    "\n",
    "# =============================================================================\n",
    "# need to check the model format\n",
    "# =============================================================================\n",
    "ng3 = Ngram_Language_Model()\n",
    "ng3.build_model(norm_text,3)\n",
    "\n",
    "sc=Spell_Checker(ng3)\n",
    "sc.learn_error_distribution(errors_file)\n",
    "print(sc.spell_check(\"the movie acress is famous. my name is john and i went to schol.\",0.01))\n",
    "\n"
   ]
  },
  {
   "cell_type": "code",
   "execution_count": 8,
   "metadata": {},
   "outputs": [
    {
     "name": "stdout",
     "output_type": "stream",
     "text": [
      "the movie actress is famous . my name is john and i went to school\n",
      "the movie across is famous . my name is john and i went to school\n",
      "the movie across is famous . my name is john and i went to school\n"
     ]
    }
   ],
   "source": [
    "\n",
    "ng5 = Ngram_Language_Model()\n",
    "ng5.build_model(norm_text,5)\n",
    "\n",
    "sc.add_language_model(ng5)\n",
    "print(sc.spell_check(\"the movie acress is famous. my name is john and i went to schol.\",0.01))\n",
    "\n",
    "\n",
    "ng7 = Ngram_Language_Model()\n",
    "ng7.build_model(norm_text,7)\n",
    "\n",
    "sc.add_language_model(ng7)\n",
    "print(sc.spell_check(\"the movie acress is famous. my name is john and i went to schol.\",0.01))\n",
    "\n",
    "ng9 = Ngram_Language_Model()\n",
    "ng9.build_model(norm_text,9)\n",
    "\n",
    "sc.add_language_model(ng9)\n",
    "print(sc.spell_check(\"the movie acress is famous. my name is john and i went to schol.\",0.01))\n",
    "\n"
   ]
  },
  {
   "cell_type": "code",
   "execution_count": 9,
   "metadata": {},
   "outputs": [
    {
     "name": "stdout",
     "output_type": "stream",
     "text": [
      "the movie acres is famous . my name is john and i went to schon\n"
     ]
    }
   ],
   "source": [
    "\n",
    "\n",
    "del d['deletion']\n",
    "sc.add_error_tables(d)\n",
    "sc.add_language_model(ng5)\n",
    "print(sc.spell_check(\"the movie acress is famous. my name is john and i went to schol.\",0.01))"
   ]
  }
 ],
 "metadata": {
  "kernelspec": {
   "display_name": "Python 3",
   "language": "python",
   "name": "python3"
  },
  "language_info": {
   "codemirror_mode": {
    "name": "ipython",
    "version": 3
   },
   "file_extension": ".py",
   "mimetype": "text/x-python",
   "name": "python",
   "nbconvert_exporter": "python",
   "pygments_lexer": "ipython3",
   "version": "3.6.7"
  }
 },
 "nbformat": 4,
 "nbformat_minor": 2
}
